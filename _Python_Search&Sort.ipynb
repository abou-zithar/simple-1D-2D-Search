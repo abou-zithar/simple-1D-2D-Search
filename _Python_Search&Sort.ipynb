{
  "nbformat": 4,
  "nbformat_minor": 0,
  "metadata": {
    "colab": {
      "provenance": [],
      "include_colab_link": true
    },
    "kernelspec": {
      "name": "python3",
      "display_name": "Python 3"
    }
  },
  "cells": [
    {
      "cell_type": "markdown",
      "metadata": {
        "id": "view-in-github",
        "colab_type": "text"
      },
      "source": [
        "<a href=\"https://colab.research.google.com/github/abou-zithar/simple-1D-2D-Search/blob/main/_Python_Search%26Sort.ipynb\" target=\"_parent\"><img src=\"https://colab.research.google.com/assets/colab-badge.svg\" alt=\"Open In Colab\"/></a>"
      ]
    },
    {
      "cell_type": "markdown",
      "metadata": {
        "id": "gKA-7gY7nRQx"
      },
      "source": [
        "**1D List Search & Sorting**"
      ]
    },
    {
      "cell_type": "code",
      "metadata": {
        "id": "i8DHnxLEWoJq"
      },
      "source": [],
      "execution_count": null,
      "outputs": []
    },
    {
      "cell_type": "code",
      "metadata": {
        "id": "5HvNKmPglOz1",
        "outputId": "07435a36-126a-4068-fae4-c54eb1db7c96",
        "colab": {
          "base_uri": "https://localhost:8080/",
          "height": 51
        }
      },
      "source": [
        "# Create 1D List\n",
        "myList = [10,30,5,1,2,3]\n",
        "\n",
        "# Function to search in 1D List\n",
        "def linearSearch(myList,target):\n",
        "  for i in range(len(myList)):\n",
        "    if myList[i] == target:\n",
        "      return(\"Found\")\n",
        "  return(\"Not Found\")\n",
        "\n",
        "# Call built-in function to sort\n",
        "myList.sort()\n",
        "\n",
        "# Print the List\n",
        "print(myList)\n",
        "\n",
        "# Test Search for 30\n",
        "print(linearSearch(myList,30))"
      ],
      "execution_count": null,
      "outputs": [
        {
          "output_type": "stream",
          "text": [
            "[1, 2, 3, 5, 10, 30]\n",
            "Found\n"
          ],
          "name": "stdout"
        }
      ]
    },
    {
      "cell_type": "markdown",
      "metadata": {
        "id": "i0PpNmCxnUQJ"
      },
      "source": [
        "**2D List**"
      ]
    },
    {
      "cell_type": "code",
      "metadata": {
        "id": "oeLUEZDbnTMN",
        "outputId": "b6ff261c-8c9f-44d5-9a46-5c197d483915",
        "colab": {
          "base_uri": "https://localhost:8080/",
          "height": 51
        }
      },
      "source": [
        "# Create 2D List\n",
        "myList = [[9,8,7],\n",
        "          [6,5,4],\n",
        "          [3,2,1]]\n",
        "\n",
        "# Function to search in 2D List\n",
        "def linearSearch(myList,target):\n",
        "  for i in range(len(myList)):\n",
        "    for j in range(len(myList[i])):\n",
        "      if myList[i][j] == target:\n",
        "        return(\"Found\")\n",
        "  return(\"Not Found\")\n",
        "\n",
        "# Test Search for 5\n",
        "print(linearSearch(myList,5))\n",
        "\n",
        "# Function to sort 2D List\n",
        "def sort2D(myList):\n",
        "  # First, Convert 2D into 1D\n",
        "  myList1D = []\n",
        "  for i in range(len(myList)):\n",
        "    for j in range(len(myList[i])):\n",
        "      myList1D.append(myList[i][j])\n",
        "  # Then Sort the 1D\n",
        "  myList1D.sort()\n",
        "\n",
        "  # Now, Convert back to 2D\n",
        "  sortedList = []\n",
        "  k = 0\n",
        "  for i in range(len(myList)):\n",
        "    row = []\n",
        "    for j in range(len(myList[i])):\n",
        "      row.append(myList1D[k])\n",
        "      k = k+1\n",
        "    sortedList.append(row)\n",
        "\n",
        "  return sortedList\n",
        "\n",
        "# Test Sorting 2D List\n",
        "print(sort2D(myList))"
      ],
      "execution_count": null,
      "outputs": [
        {
          "output_type": "stream",
          "text": [
            "Found\n",
            "[[1, 2, 3], [4, 5, 6], [7, 8, 9]]\n"
          ],
          "name": "stdout"
        }
      ]
    }
  ]
}